{
 "cells": [
  {
   "cell_type": "markdown",
   "id": "417ba31f-e2a2-4edc-80cd-22b81b1c8473",
   "metadata": {
    "tags": []
   },
   "source": [
    "## Co-occurence network"
   ]
  },
  {
   "cell_type": "raw",
   "id": "2b902fd2-3cfc-4f14-ae21-d2c066de0ea7",
   "metadata": {},
   "source": [
    "import os\n",
    "import pandas as pd\n",
    "import numpy as np\n",
    "import matplotlib as mpl"
   ]
  },
  {
   "cell_type": "code",
   "execution_count": 657,
   "id": "1ae978f6-5c3b-4630-8537-16378c22733f",
   "metadata": {},
   "outputs": [
    {
     "name": "stderr",
     "output_type": "stream",
     "text": [
      "/var/folders/5f/f4nt1g8x77ggbhbbvwpth89c0000gr/T/ipykernel_20921/144005170.py:12: FutureWarning: Using the level keyword in DataFrame and Series aggregations is deprecated and will be removed in a future version. Use groupby instead. df.sum(level=1) should use df.groupby(level=1).sum().\n",
      "  u = pd.get_dummies(pd.DataFrame(lst), prefix='', prefix_sep='').sum(level=0, axis=1)\n",
      "/var/folders/5f/f4nt1g8x77ggbhbbvwpth89c0000gr/T/ipykernel_20921/144005170.py:16: DeprecationWarning: `np.bool` is a deprecated alias for the builtin `bool`. To silence this warning, use `bool` by itself. Doing this will not modify any behavior and is safe. If you specifically wanted the numpy scalar type, use `np.bool_` here.\n",
      "Deprecated in NumPy 1.20; for more details and guidance: https://numpy.org/devdocs/release/1.20.0-notes.html#deprecations\n",
      "  v.values[np.tril(np.ones(v.shape)).astype(np.bool)] = 0\n"
     ]
    }
   ],
   "source": [
    "# prepare data \n",
    "ls = [x for x in data.concepts.tolist() if str(x) != 'nan']\n",
    "ls = [x.split(',') for x in ls]\n",
    "lst = [[x.replace(' ','') for x in i] for i in ls]\n",
    "\n",
    "# extract only top 10 words\n",
    "d = dict(Counter(chain.from_iterable(lst)))\n",
    "d = dict(sorted(d.items(), key=lambda item: item[1]))\n",
    "top = dict(list(d.items())[-10:])\n",
    "res = OrderedDict(reversed(list(top.items())))\n",
    "\n",
    "u = pd.get_dummies(pd.DataFrame(lst), prefix='', prefix_sep='').sum(level=0, axis=1)\n",
    "\n",
    "v = u.T.dot(u)\n",
    "#set 0 to lower triangular matrix\n",
    "v.values[np.tril(np.ones(v.shape)).astype(np.bool)] = 0\n",
    "\n",
    "#reshape and filter only count > 0\n",
    "a = v.stack()\n",
    "a = a[a >= 1].rename_axis(('source', 'target')).reset_index(name='weight')"
   ]
  },
  {
   "cell_type": "code",
   "execution_count": 658,
   "id": "312f68a5-762f-4cb9-bf82-28e87c27e988",
   "metadata": {},
   "outputs": [
    {
     "data": {
      "text/html": [
       "<div>\n",
       "<style scoped>\n",
       "    .dataframe tbody tr th:only-of-type {\n",
       "        vertical-align: middle;\n",
       "    }\n",
       "\n",
       "    .dataframe tbody tr th {\n",
       "        vertical-align: top;\n",
       "    }\n",
       "\n",
       "    .dataframe thead th {\n",
       "        text-align: right;\n",
       "    }\n",
       "</style>\n",
       "<table border=\"1\" class=\"dataframe\">\n",
       "  <thead>\n",
       "    <tr style=\"text-align: right;\">\n",
       "      <th></th>\n",
       "      <th>source</th>\n",
       "      <th>target</th>\n",
       "      <th>weight</th>\n",
       "    </tr>\n",
       "  </thead>\n",
       "  <tbody>\n",
       "    <tr>\n",
       "      <th>0</th>\n",
       "      <td>agency</td>\n",
       "      <td>ethical</td>\n",
       "      <td>1</td>\n",
       "    </tr>\n",
       "    <tr>\n",
       "      <th>1</th>\n",
       "      <td>agency</td>\n",
       "      <td>responsibility</td>\n",
       "      <td>1</td>\n",
       "    </tr>\n",
       "    <tr>\n",
       "      <th>2</th>\n",
       "      <td>agency</td>\n",
       "      <td>risk</td>\n",
       "      <td>1</td>\n",
       "    </tr>\n",
       "    <tr>\n",
       "      <th>3</th>\n",
       "      <td>agency</td>\n",
       "      <td>alignment</td>\n",
       "      <td>1</td>\n",
       "    </tr>\n",
       "    <tr>\n",
       "      <th>4</th>\n",
       "      <td>agency</td>\n",
       "      <td>moral</td>\n",
       "      <td>1</td>\n",
       "    </tr>\n",
       "    <tr>\n",
       "      <th>...</th>\n",
       "      <td>...</td>\n",
       "      <td>...</td>\n",
       "      <td>...</td>\n",
       "    </tr>\n",
       "    <tr>\n",
       "      <th>116</th>\n",
       "      <td>rational</td>\n",
       "      <td>affective</td>\n",
       "      <td>1</td>\n",
       "    </tr>\n",
       "    <tr>\n",
       "      <th>117</th>\n",
       "      <td>rational</td>\n",
       "      <td>normative</td>\n",
       "      <td>1</td>\n",
       "    </tr>\n",
       "    <tr>\n",
       "      <th>118</th>\n",
       "      <td>confidence</td>\n",
       "      <td>affective</td>\n",
       "      <td>1</td>\n",
       "    </tr>\n",
       "    <tr>\n",
       "      <th>119</th>\n",
       "      <td>confidence</td>\n",
       "      <td>normative</td>\n",
       "      <td>1</td>\n",
       "    </tr>\n",
       "    <tr>\n",
       "      <th>120</th>\n",
       "      <td>affective</td>\n",
       "      <td>normative</td>\n",
       "      <td>1</td>\n",
       "    </tr>\n",
       "  </tbody>\n",
       "</table>\n",
       "<p>121 rows × 3 columns</p>\n",
       "</div>"
      ],
      "text/plain": [
       "         source          target  weight\n",
       "0        agency         ethical       1\n",
       "1        agency  responsibility       1\n",
       "2        agency            risk       1\n",
       "3        agency       alignment       1\n",
       "4        agency           moral       1\n",
       "..          ...             ...     ...\n",
       "116    rational       affective       1\n",
       "117    rational       normative       1\n",
       "118  confidence       affective       1\n",
       "119  confidence       normative       1\n",
       "120   affective       normative       1\n",
       "\n",
       "[121 rows x 3 columns]"
      ]
     },
     "execution_count": 658,
     "metadata": {},
     "output_type": "execute_result"
    }
   ],
   "source": [
    "a"
   ]
  },
  {
   "cell_type": "code",
   "execution_count": 630,
   "id": "3e9adbc4-f67d-453a-a563-0a3114d621ba",
   "metadata": {},
   "outputs": [],
   "source": [
    "import networkx as nx\n",
    "G = nx.from_pandas_edgelist(a,  edge_attr=True)"
   ]
  },
  {
   "cell_type": "code",
   "execution_count": 631,
   "id": "f3b19ddb-2b92-43ef-8eef-e130a22e9672",
   "metadata": {},
   "outputs": [],
   "source": [
    "nx.write_gexf(G, \"test2.gexf\")"
   ]
  },
  {
   "cell_type": "markdown",
   "id": "7082a09a-16ea-44bd-8347-15e04a0e4753",
   "metadata": {},
   "source": [
    "### Cluster keywords"
   ]
  }
 ],
 "metadata": {
  "kernelspec": {
   "display_name": "Python 3 (ipykernel)",
   "language": "python",
   "name": "python3"
  },
  "language_info": {
   "codemirror_mode": {
    "name": "ipython",
    "version": 3
   },
   "file_extension": ".py",
   "mimetype": "text/x-python",
   "name": "python",
   "nbconvert_exporter": "python",
   "pygments_lexer": "ipython3",
   "version": "3.9.12"
  }
 },
 "nbformat": 4,
 "nbformat_minor": 5
}
